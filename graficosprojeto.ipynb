{
 "cells": [
  {
   "cell_type": "code",
   "execution_count": null,
   "metadata": {},
   "outputs": [
    {
     "data": {
      "application/vnd.jupyter.widget-view+json": {
       "model_id": "4aea88a6eafb46f6983f12b3f1cfc3cf",
       "version_major": 2,
       "version_minor": 0
      },
      "text/plain": [
       "interactive(children=(SelectMultiple(description='Categorias:', options=('Eletrônicos', 'Roupas', 'Alimentos',…"
      ]
     },
     "metadata": {},
     "output_type": "display_data"
    }
   ],
   "source": [
    "import matplotlib.pyplot as plt\n",
    "import seaborn as sns\n",
    "import pandas as pd\n",
    "import ipywidgets as widgets\n",
    "from ipywidgets import interactive\n",
    "from IPython.display import display\n",
    "\n",
    "# Dados simulados com múltiplos períodos\n",
    "dados = {\n",
    "    'Categoria': ['Eletrônicos', 'Roupas', 'Alimentos', 'Livros', 'Móveis', 'Eletrônicos', 'Roupas', 'Alimentos', 'Livros', 'Móveis'],\n",
    "    'Quantidade': [120, 340, 230, 180, 130, 150, 300, 220, 170, 140],\n",
    "    'Periodo': ['2023-Q1', '2023-Q1', '2023-Q1', '2023-Q1', '2023-Q1', '2023-Q2', '2023-Q2', '2023-Q2', '2023-Q2', '2023-Q2']\n",
    "}\n",
    "df = pd.DataFrame(dados)\n",
    "\n",
    "# Função para gerar gráficos comparativos\n",
    "def plot_comparacao(categorias, periodos):\n",
    "    # Filtrando DataFrame de acordo com as seleções\n",
    "    df_filtrado = df[(df['Categoria'].isin(categorias)) & (df['Periodo'].isin(periodos))]\n",
    "    \n",
    "    if df_filtrado.empty:\n",
    "        print(\"Nenhum dado disponível para as seleções escolhidas.\")\n",
    "        return\n",
    "\n",
    "    # Convertendo para porcentagem para o conjunto filtrado\n",
    "    df_filtrado['Porcentagem'] = (df_filtrado['Quantidade'] / df_filtrado['Quantidade'].sum()) * 100\n",
    "\n",
    "    # Gráfico de Barras para comparar várias categorias e períodos\n",
    "    plt.figure(figsize=(12, 6))\n",
    "    sns.barplot(x='Categoria', y='Porcentagem', hue='Periodo', data=df_filtrado, palette=\"viridis\")\n",
    "    plt.title('Comparação de Vendas em Porcentagem por Categoria e Período', fontsize=16)\n",
    "    plt.ylabel('Porcentagem (%)', fontsize=14)\n",
    "    plt.xlabel('Categoria', fontsize=14)\n",
    "    plt.legend(title=\"Período\")\n",
    "    plt.show()\n",
    "\n",
    "    # Gráfico de Pizza para comparar as porcentagens de cada categoria por período\n",
    "    for periodo in periodos:\n",
    "        df_periodo = df_filtrado[df_filtrado['Periodo'] == periodo]\n",
    "        plt.figure(figsize=(8, 8))\n",
    "        plt.pie(df_periodo['Porcentagem'], labels=df_periodo['Categoria'], autopct='%1.1f%%', startangle=140, colors=sns.color_palette(\"viridis\", len(df_periodo)))\n",
    "        plt.title(f'Distribuição de Vendas em Porcentagem para {periodo}', fontsize=16)\n",
    "        plt.show()\n",
    "\n",
    "# Widgets para seleção de múltiplas categorias e períodos\n",
    "categoria_widget = widgets.SelectMultiple(\n",
    "    options=df['Categoria'].unique(),\n",
    "    description='Categorias:',\n",
    "    style={'description_width': 'initial'}\n",
    ")\n",
    "\n",
    "periodo_widget = widgets.SelectMultiple(\n",
    "    options=df['Periodo'].unique(),\n",
    "    description='Períodos:',\n",
    "    style={'description_width': 'initial'}\n",
    ")\n",
    "\n",
    "# Interatividade\n",
    "interactive_plot = interactive(plot_comparacao, categorias=categoria_widget, periodos=periodo_widget)\n",
    "display(interactive_plot)\n"
   ]
  }
 ],
 "metadata": {
  "kernelspec": {
   "display_name": "Python 3",
   "language": "python",
   "name": "python3"
  },
  "language_info": {
   "codemirror_mode": {
    "name": "ipython",
    "version": 3
   },
   "file_extension": ".py",
   "mimetype": "text/x-python",
   "name": "python",
   "nbconvert_exporter": "python",
   "pygments_lexer": "ipython3",
   "version": "3.11.9"
  }
 },
 "nbformat": 4,
 "nbformat_minor": 2
}
