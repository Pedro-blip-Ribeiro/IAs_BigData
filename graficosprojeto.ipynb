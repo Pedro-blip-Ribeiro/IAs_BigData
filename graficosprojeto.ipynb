{
 "cells": [
  {
   "cell_type": "code",
   "execution_count": null,
   "metadata": {},
   "outputs": [
    {
     "name": "stdout",
     "output_type": "stream",
     "text": [
      "Index(['Data', 'Ano', 'IPCA'], dtype='object')\n"
     ]
    },
    {
     "data": {
      "application/vnd.jupyter.widget-view+json": {
       "model_id": "4ee22b45f49e4a9488ebe4207ffd3a31",
       "version_major": 2,
       "version_minor": 0
      },
      "text/plain": [
       "interactive(children=(RadioButtons(description='Filtro:', options=('Todos os anos', 'Últimos 5 anos', 'Ano esp…"
      ]
     },
     "metadata": {},
     "output_type": "display_data"
    }
   ],
   "source": [
    "import matplotlib.pyplot as plt\n",
    "import seaborn as sns\n",
    "import pandas as pd\n",
    "import ipywidgets as widgets\n",
    "from ipywidgets import interactive\n",
    "from pymongo import MongoClient\n",
    "from IPython.display import display\n",
    "\n",
    "# Conectar ao MongoDB\n",
    "client = MongoClient('mongodb://localhost:27017')\n",
    "db = client['big_data_ibge']\n",
    "collection = db['inflacao']\n",
    "\n",
    "# Buscar os dados do MongoDB\n",
    "data = pd.DataFrame(list(collection.find()))\n",
    "data = data.drop(columns=['_id'], errors='ignore') # Remove a coluna _id.\n",
    "\n",
    "print(data.columns)\n",
    "\n",
    "# Renomeie as colunas do DataFrame\n",
    "data.columns = ['Data', 'Ano', 'IPCA']\n",
    "\n",
    "#Função para gerar gráficos comparativos\n",
    "def plot_comparacao(filtro):\n",
    "    # Filtra os dados de acordo com a opção selecionada\n",
    "    if filtro == 'Últimos 5 anos':\n",
    "        anos_selecionados = list(range(data['Ano'].max() -5, data['Ano'].max() + 1))\n",
    "    elif filtro == 'Ano específico':\n",
    "        ano_especifico = int(input(\"Digite um ano específico entre (1996-2024): \"))\n",
    "        anos_selecionados = [ano_especifico]\n",
    "    else:\n",
    "        anos_selecionados = data['Ano'].unique() # Todos os anos\n",
    "\n",
    "    # Convertendo para porcentagem para o conjunto filtrado\n",
    "    df_filtrado = data[data['Ano'].isin(anos_selecionados)]\n",
    "\n",
    "    if df_filtrado.empty:\n",
    "        print(\"Nenhum dado disponível para os anos escolhidos.\")\n",
    "        return\n",
    "\n",
    "    # Gráfico de Linha para vizualizar a variação do IPCA ao longo do tempo\n",
    "    plt.figure(figsize=(12, 6))\n",
    "    sns.lineplot(x='Ano', y='IPCA', hue='Ano', data=df_filtrado, marker='o')\n",
    "    plt.title('Variação do IPCA ao longo do tempo', fontsize=16)\n",
    "    plt.ylabel('IPCA (%)', fontsize=14)\n",
    "    plt.xlabel('Ano', fontsize=14)\n",
    "    plt.xticks(rotation=45)\n",
    "    plt.show()\n",
    "\n",
    "# Widgets para seleção de filtro\n",
    "filtro_widget = widgets.RadioButtons(\n",
    "    options=['Todos os anos', 'Últimos 5 anos', 'Ano específico'],\n",
    "    description='Filtro:',\n",
    "    style={'description_width': 'initial'}\n",
    ")\n",
    "\n",
    "ano_especifico_widget = widgets.IntText(\n",
    "    value=2020, \n",
    "    description='Ano:',\n",
    "    min=data['Ano'].min(),\n",
    "    max=data['Ano'].max(),\n",
    "    style={'description_width': 'initial'}\n",
    ")\n",
    "\n",
    "# Função para exibir os widgets adequadamente\n",
    "def update_plot(filtro, ano_especifico=ano_especifico_widget.value):\n",
    "    if filtro == 'Ano específico':\n",
    "        ano_especifico_widget.layout.visibility = 'visible'  # Exibe o campo para o ano específico\n",
    "    else:\n",
    "        ano_especifico_widget.layout.visibility = 'hidden'  # Oculta o campo se não for a opção \"Ano específico\"\n",
    "    plot_comparacao(filtro, ano_especifico)\n",
    "\n",
    "\n",
    "# Interatividade\n",
    "interactive_plot = interactive(plot_comparacao, filtro=filtro_widget)\n",
    "display(interactive_plot)\n"
   ]
  }
 ],
 "metadata": {
  "kernelspec": {
   "display_name": "Python 3",
   "language": "python",
   "name": "python3"
  },
  "language_info": {
   "codemirror_mode": {
    "name": "ipython",
    "version": 3
   },
   "file_extension": ".py",
   "mimetype": "text/x-python",
   "name": "python",
   "nbconvert_exporter": "python",
   "pygments_lexer": "ipython3",
   "version": "3.12.5"
  }
 },
 "nbformat": 4,
 "nbformat_minor": 2
}
